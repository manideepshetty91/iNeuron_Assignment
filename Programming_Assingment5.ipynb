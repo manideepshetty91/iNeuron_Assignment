{
 "cells": [
  {
   "cell_type": "code",
   "execution_count": 5,
   "metadata": {},
   "outputs": [
    {
     "name": "stdout",
     "output_type": "stream",
     "text": [
      "Enter the number1 2\n",
      "Enter the number2 2\n",
      "1\n",
      "LCM of two numbers 2 and 2 is  2\n"
     ]
    }
   ],
   "source": [
    "#1.\tWrite a Python Program to Find LCM?\n",
    "a = int(input(\"Enter the number1 \"))\n",
    "b = int(input(\"Enter the number2 \"))\n",
    "n = 0\n",
    "if a > b:\n",
    "    i = a\n",
    "else:\n",
    "    i = b\n",
    "while n <= 0:\n",
    "    \n",
    "    if i%a == 0 and i%b == 0:\n",
    "        n = 1\n",
    "        print(n)\n",
    "    else:\n",
    "        i = i + 1\n",
    "        continue\n",
    "print(\"LCM of two numbers {} and {} is  {}\".format(a,b,i))"
   ]
  },
  {
   "cell_type": "code",
   "execution_count": 12,
   "metadata": {},
   "outputs": [
    {
     "name": "stdout",
     "output_type": "stream",
     "text": [
      "Enter the number1 10\n",
      "Enter the number2 10\n",
      "1\n",
      "HCF of two numbers 10 and 10 is  10\n"
     ]
    }
   ],
   "source": [
    "#2.\tWrite a Python Program to Find HCF?\n",
    "a = int(input(\"Enter the number1 \"))\n",
    "b = int(input(\"Enter the number2 \"))\n",
    "n = 0\n",
    "if a > b:\n",
    "    i = b\n",
    "else:\n",
    "    i = a\n",
    "while n <= 0:\n",
    "    \n",
    "    if a%i == 0 and b%i == 0:\n",
    "        n = 1\n",
    "        print(n)\n",
    "    else:\n",
    "        i = i - 1\n",
    "        continue\n",
    "\n",
    "print(\"HCF of two numbers {} and {} is  {}\".format(a,b,i))"
   ]
  },
  {
   "cell_type": "code",
   "execution_count": 2,
   "metadata": {},
   "outputs": [
    {
     "name": "stdout",
     "output_type": "stream",
     "text": [
      "Enter the decimal number 10\n",
      "Binary value of decimal number 10 is 1010\n"
     ]
    }
   ],
   "source": [
    "#3.\tWrite a Python Program to Convert Decimal to Binary?\n",
    "a = int(input(\"Enter the decimal number \"))\n",
    "b = a\n",
    "n = 0\n",
    "list1 = []\n",
    "while n <= 0:\n",
    "    i = b%2\n",
    "    b = int(b/2)\n",
    "    list1.append(i)\n",
    "    if (b == 0) or (b == 1):\n",
    "        list1.append(b)\n",
    "        break\n",
    "list1.reverse()\n",
    "s = [str(i) for i in list1]\n",
    "res = int(\"\".join(s))\n",
    "print(\"Binary value of decimal number {} is {}\".format(a,res))\n",
    "        \n",
    "    "
   ]
  },
  {
   "cell_type": "code",
   "execution_count": 3,
   "metadata": {},
   "outputs": [
    {
     "name": "stdout",
     "output_type": "stream",
     "text": [
      "Enter the decimal number1 10\n",
      "Octa value of decimal number 10 is 12\n"
     ]
    }
   ],
   "source": [
    "#3.\tWrite a Python Program to Convert Decimal to Octal ?\n",
    "a = int(input(\"Enter the decimal number1 \"))\n",
    "b = a\n",
    "n = 0\n",
    "list1 = []\n",
    "while n <= 0:\n",
    "    i = b%8\n",
    "    b = int(b/8)\n",
    "    list1.append(i)\n",
    "    if (b == 0) or (b == 1):\n",
    "        list1.append(b)\n",
    "        break\n",
    "list1.reverse()\n",
    "s = [str(i) for i in list1]\n",
    "res = int(\"\".join(s))\n",
    "print(\"Octa value of decimal number {} is {}\".format(a,res))\n"
   ]
  },
  {
   "cell_type": "code",
   "execution_count": 65,
   "metadata": {},
   "outputs": [
    {
     "name": "stdout",
     "output_type": "stream",
     "text": [
      "Enter the decimal number1 1500\n",
      "5DC"
     ]
    }
   ],
   "source": [
    "#3.\tWrite a Python Program to Convert Decimal to Hexadecimal?\n",
    "a = int(input(\"Enter the decimal number1 \"))\n",
    " \n",
    "n= a \n",
    "i = 0\n",
    "hexaDeciNum = ['0'] * 100\n",
    "while(n != 0):\n",
    "    temp = 0\n",
    "    temp = n % 16            \n",
    "    if(temp < 10):\n",
    "        hexaDeciNum[i] = chr(temp + 48)\n",
    "        i = i + 1\n",
    "    else:\n",
    "        hexaDeciNum[i] = chr(temp + 55)\n",
    "        i = i + 1\n",
    "    n = int(n / 16)\n",
    "        \n",
    "j = i - 1\n",
    "while(j >= 0):\n",
    "\n",
    "    print((hexaDeciNum[j]), end=\"\")\n",
    "    j = j - 1\n",
    " \n",
    " \n"
   ]
  },
  {
   "cell_type": "code",
   "execution_count": 91,
   "metadata": {},
   "outputs": [
    {
     "name": "stdout",
     "output_type": "stream",
     "text": [
      "Enter the Charecter B\n",
      "ASCII value of B is 66\n"
     ]
    }
   ],
   "source": [
    "#4.\tWrite a Python Program To Find ASCII value of a character?\n",
    "a = input(\"Enter the Charecter \")\n",
    "print(\"ASCII value of {} is {}\".format(a,ord(a)))\n"
   ]
  },
  {
   "cell_type": "code",
   "execution_count": 98,
   "metadata": {},
   "outputs": [
    {
     "name": "stdout",
     "output_type": "stream",
     "text": [
      "Enter the value1 2\n",
      "Enter the value 5\n",
      "Enter Add or Sub or Mul or Div sd\n",
      "enter from Add or Sub or Mul or Div\n"
     ]
    }
   ],
   "source": [
    "#5.\tWrite a Python Program to Make a Simple Calculator with 4 basic mathematical operations?\n",
    "\n",
    "a = int(input(\"Enter the value1 \"))\n",
    "b = int(input(\"Enter the value \"))\n",
    "c = input(\"Enter Add or Sub or Mul or Div \")\n",
    "\n",
    "if c == 'Add':\n",
    "    print(\"Addtion of {} and {} is {}\".format(a,b,(a+b)))\n",
    "elif c == 'Sub':\n",
    "    print(\"substraction of {} and {} is {}\".format(a,b,(a-b)))\n",
    "elif c == 'Mul':\n",
    "    print(\"Multiplication of {} and {} is {}\".format(a,b,(a*b)))\n",
    "elif c == 'Div':\n",
    "    print(\"Division of {} and {} is {}\".format(a,b,(a/b)))\n",
    "else:\n",
    "    print(\"enter from Add or Sub or Mul or Div\")\n",
    "    \n",
    "\n",
    "\n",
    "\n"
   ]
  },
  {
   "cell_type": "code",
   "execution_count": null,
   "metadata": {},
   "outputs": [],
   "source": []
  },
  {
   "cell_type": "code",
   "execution_count": null,
   "metadata": {},
   "outputs": [],
   "source": []
  },
  {
   "cell_type": "code",
   "execution_count": 10,
   "metadata": {},
   "outputs": [],
   "source": []
  },
  {
   "cell_type": "code",
   "execution_count": null,
   "metadata": {},
   "outputs": [],
   "source": []
  },
  {
   "cell_type": "code",
   "execution_count": null,
   "metadata": {},
   "outputs": [],
   "source": []
  },
  {
   "cell_type": "code",
   "execution_count": null,
   "metadata": {},
   "outputs": [],
   "source": []
  },
  {
   "cell_type": "code",
   "execution_count": null,
   "metadata": {},
   "outputs": [],
   "source": []
  },
  {
   "cell_type": "code",
   "execution_count": null,
   "metadata": {},
   "outputs": [],
   "source": []
  }
 ],
 "metadata": {
  "kernelspec": {
   "display_name": "Python 3",
   "language": "python",
   "name": "python3"
  },
  "language_info": {
   "codemirror_mode": {
    "name": "ipython",
    "version": 3
   },
   "file_extension": ".py",
   "mimetype": "text/x-python",
   "name": "python",
   "nbconvert_exporter": "python",
   "pygments_lexer": "ipython3",
   "version": "3.8.3"
  }
 },
 "nbformat": 4,
 "nbformat_minor": 4
}
