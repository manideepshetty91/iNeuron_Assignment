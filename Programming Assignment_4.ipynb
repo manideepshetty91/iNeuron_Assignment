{
 "cells": [
  {
   "cell_type": "code",
   "execution_count": 6,
   "metadata": {},
   "outputs": [
    {
     "name": "stdout",
     "output_type": "stream",
     "text": [
      "Enter the number10\n",
      "factorial of the number 10 is 362880 \n"
     ]
    }
   ],
   "source": [
    "#1.\tWrite a Python Program to Find the Factorial of a Number?\n",
    "a = int(input(\"Enter the number\"))\n",
    "fac = 1\n",
    "for i in range(1,a):\n",
    "    fac = fac*i\n",
    "print(\"factorial of the number {} is {} \".format(a,fac))"
   ]
  },
  {
   "cell_type": "code",
   "execution_count": 11,
   "metadata": {},
   "outputs": [
    {
     "name": "stdout",
     "output_type": "stream",
     "text": [
      "Enter the number10\n",
      "multiplication Table for 10 is [10, 20, 30, 40, 50, 60, 70, 80, 90, 100]\n"
     ]
    }
   ],
   "source": [
    "#2.\tWrite a Python Program to Display the multiplication Table?\n",
    "a = int(input(\"Enter the number\"))\n",
    "list1 = []\n",
    "for i in range(1,11):\n",
    "    mul =1\n",
    "    mul = a*i\n",
    "    list1.append(mul)\n",
    "\n",
    "print(\"multiplication Table for {} is {}\".format(a,list1))"
   ]
  },
  {
   "cell_type": "code",
   "execution_count": 20,
   "metadata": {},
   "outputs": [
    {
     "name": "stdout",
     "output_type": "stream",
     "text": [
      "Enter the number10\n",
      "Fibonacci sequence till 10 numbers is [0, 1, 1, 2, 3, 5, 8, 13, 21, 34, 55]\n"
     ]
    }
   ],
   "source": [
    "#3.\tWrite a Python Program to Print the Fibonacci sequence?\n",
    "a = int(input(\"Enter the number\"))\n",
    "list1 = [0,1]\n",
    "for i in range(1,a):\n",
    "    fib = 0\n",
    "    fib = list1[i-1] + list1[i]\n",
    "    list1.append(fib)\n",
    "print(\"Fibonacci sequence till {} numbers is {}\".format(a,list1))"
   ]
  },
  {
   "cell_type": "code",
   "execution_count": 20,
   "metadata": {},
   "outputs": [
    {
     "name": "stdout",
     "output_type": "stream",
     "text": [
      "Enter the number407\n",
      "407\n",
      " The entered number 407 is an armstrong number\n"
     ]
    }
   ],
   "source": [
    "#4.\tWrite a Python Program to Check Armstrong Number?\n",
    "a = input(\"Enter the number\")\n",
    "len1 = len(a)\n",
    "sum1 = 0\n",
    "for i in range(0,len1):\n",
    "    sum1 = sum1 + (int(a[i]))**3\n",
    "print(sum1)\n",
    "if sum1 == int(a):\n",
    "    print(\" The entered number {} is an armstrong number\".format(a))\n",
    "else:\n",
    "    print(\" The entered number {} is not an armstrong number\".format(a))\n"
   ]
  },
  {
   "cell_type": "code",
   "execution_count": 35,
   "metadata": {},
   "outputs": [
    {
     "name": "stdout",
     "output_type": "stream",
     "text": [
      "Enter the from number1\n",
      "Enter the to number999\n",
      "user requested intervel is 1 - 999\n",
      "Armstron numbers in the intervel of 1 - 999 is [1, 153, 370, 371, 407]\n"
     ]
    }
   ],
   "source": [
    "#5.\tWrite a Python Program to Find Armstrong Number in an Interval?\n",
    "a = input(\"Enter the from number\")\n",
    "b = input(\"Enter the to number\")\n",
    "print(\"user requested intervel is {} - {}\".format(a,b)\n",
    "     )\n",
    "list1 = []\n",
    "\n",
    "for  i in range(int(a),int(b)):\n",
    "    z = str(i)\n",
    "    len1 = len(z)\n",
    "    sum1 = 0\n",
    "    for j in range(0,len1):\n",
    "        sum1 = sum1 + (int(z[j]))**3\n",
    "  #  print(sum1)\n",
    "    if sum1 == int(i):\n",
    "        list1.append(sum1)\n",
    "print(\"Armstron numbers in the intervel of {} - {} is {}\".format(a,b,list1))\n",
    "\n"
   ]
  },
  {
   "cell_type": "code",
   "execution_count": 38,
   "metadata": {},
   "outputs": [
    {
     "name": "stdout",
     "output_type": "stream",
     "text": [
      "Enter the from number till which sum is required in natural numbers100\n",
      "Sum of Natural Numbers till 100 is 5050\n"
     ]
    }
   ],
   "source": [
    "#6.\tWrite a Python Program to Find the Sum of Natural Numbers?\n",
    "a = int(input(\"Enter the from number till which sum is required in natural numbers\"))\n",
    "sum1 = 0\n",
    "for i in range(0,(a+1)):\n",
    "    sum1 = sum1 + i\n",
    "print(\"Sum of Natural Numbers till {} is {}\".format(a,sum1))\n",
    "    "
   ]
  },
  {
   "cell_type": "code",
   "execution_count": null,
   "metadata": {},
   "outputs": [],
   "source": []
  }
 ],
 "metadata": {
  "kernelspec": {
   "display_name": "Python 3",
   "language": "python",
   "name": "python3"
  },
  "language_info": {
   "codemirror_mode": {
    "name": "ipython",
    "version": 3
   },
   "file_extension": ".py",
   "mimetype": "text/x-python",
   "name": "python",
   "nbconvert_exporter": "python",
   "pygments_lexer": "ipython3",
   "version": "3.8.3"
  }
 },
 "nbformat": 4,
 "nbformat_minor": 4
}
