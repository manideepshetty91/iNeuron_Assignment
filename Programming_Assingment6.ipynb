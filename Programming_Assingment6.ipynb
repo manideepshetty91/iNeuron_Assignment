{
 "cells": [
  {
   "cell_type": "code",
   "execution_count": 2,
   "metadata": {},
   "outputs": [
    {
     "name": "stdout",
     "output_type": "stream",
     "text": [
      "enter Fibonacci sequence till required10\n",
      "Fibonacci sequence:\n",
      "0\n",
      "1\n",
      "1\n",
      "2\n",
      "3\n",
      "5\n",
      "8\n",
      "13\n",
      "21\n",
      "34\n"
     ]
    }
   ],
   "source": [
    "#1.\tWrite a Python Program to Display Fibonacci Sequence Using Recursion?\n",
    "\n",
    "\n",
    "def recur_fibo(n):\n",
    "   if n <= 1:\n",
    "       return n\n",
    "   else:\n",
    "       return(recur_fibo(n-1) + recur_fibo(n-2))\n",
    "\n",
    "\n",
    "a = int(input(\"enter Fibonacci sequence till required\"))\n",
    "if a <= 0:\n",
    "   print(\"Plese enter a positive integer\")\n",
    "else:\n",
    "   print(\"Fibonacci sequence:\")\n",
    "   for i in range(a):\n",
    "       print(recur_fibo(i))"
   ]
  },
  {
   "cell_type": "code",
   "execution_count": 24,
   "metadata": {},
   "outputs": [
    {
     "name": "stdout",
     "output_type": "stream",
     "text": [
      "enter a number4\n",
      "factorial\n",
      "24\n"
     ]
    }
   ],
   "source": [
    "#2.\tWrite a Python Program to Find Factorial of Number Using Recursion?\n",
    "def recur_fac(n):\n",
    "   if n <= 2:\n",
    "       return n\n",
    "   else:\n",
    "       return n*recur_fac(n-1)\n",
    "    \n",
    "a = int(input(\"enter a number\"))\n",
    "\n",
    "if a <= 0:\n",
    "   print(\"Plese enter a positive integer\")\n",
    "else:\n",
    "   print(\"factorial\")\n",
    "   print(recur_fac(a))\n",
    "       \n",
    "\n",
    "\n"
   ]
  },
  {
   "cell_type": "code",
   "execution_count": 30,
   "metadata": {},
   "outputs": [
    {
     "name": "stdout",
     "output_type": "stream",
     "text": [
      "Enter your weiht in KG 80\n",
      "Enter your heiht in meters 1.8\n",
      "your BMI is 24.691358024691358\n"
     ]
    }
   ],
   "source": [
    "#3.\tWrite a Python Program to calculate your Body Mass Index?\n",
    "# BMI = WEIHT(KG)/HEIHT(METERS)\n",
    "w = int(input(\"Enter your weiht in KG \"))\n",
    "h = float(input(\"Enter your heiht in meters \"))\n",
    "\n",
    "print(\"your BMI is {}\".format(w/(h**2)))"
   ]
  },
  {
   "cell_type": "code",
   "execution_count": 7,
   "metadata": {},
   "outputs": [
    {
     "name": "stdout",
     "output_type": "stream",
     "text": [
      "please enter the number64\n",
      "please enter the base2\n",
      "Natural logarithm of number 64 for base 2 is  6.0\n"
     ]
    }
   ],
   "source": [
    "#4.\tWrite a Python Program to calculate the natural logarithm of any number?\n",
    "import math\n",
    "n = int(input(\"please enter the number\"))\n",
    "e = int(input(\"please enter the base\"))\n",
    "x = math.log(n,e)\n",
    "print(\"Natural logarithm of number {} for base {} is  {}\".format(n,e,x))"
   ]
  },
  {
   "cell_type": "code",
   "execution_count": 13,
   "metadata": {},
   "outputs": [
    {
     "name": "stdout",
     "output_type": "stream",
     "text": [
      "enter a number5\n",
      "cube sum of first 5 natural numbers is 225\n"
     ]
    }
   ],
   "source": [
    "#5.\tWrite a Python Program for cube sum of first n natural numbers?\n",
    "    \n",
    "a = int(input(\"enter a number\"))\n",
    "\n",
    "if a <= 0:\n",
    "   print(\"Plese enter a positive non zero integer\")\n",
    "else:\n",
    "    cube = 0\n",
    "    for i in range(1,a+1):\n",
    "        cube = cube + i**3\n",
    "    print(\"cube sum of first {} natural numbers is {}\".format(a,cube))"
   ]
  },
  {
   "cell_type": "code",
   "execution_count": null,
   "metadata": {},
   "outputs": [],
   "source": []
  },
  {
   "cell_type": "code",
   "execution_count": null,
   "metadata": {},
   "outputs": [],
   "source": []
  }
 ],
 "metadata": {
  "kernelspec": {
   "display_name": "Python 3",
   "language": "python",
   "name": "python3"
  },
  "language_info": {
   "codemirror_mode": {
    "name": "ipython",
    "version": 3
   },
   "file_extension": ".py",
   "mimetype": "text/x-python",
   "name": "python",
   "nbconvert_exporter": "python",
   "pygments_lexer": "ipython3",
   "version": "3.8.3"
  }
 },
 "nbformat": 4,
 "nbformat_minor": 4
}
