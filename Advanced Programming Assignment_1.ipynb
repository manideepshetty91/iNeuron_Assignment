{
 "cells": [
  {
   "cell_type": "code",
   "execution_count": 1,
   "metadata": {},
   "outputs": [],
   "source": [
    "#1. Write a function that takes a list of lists and returns the value of all of the symbols in it, where each symbol adds or takes something from the total score. Symbol values:\n",
    "\n",
    "# # = 5\n",
    "#O = 3\n",
    "#X = 1\n",
    "#! = -1\n",
    "#!! = -3\n",
    "#!!! = -5\n",
    "\n",
    "def listfun(*args):\n",
    "    sum1 = 0\n",
    "    flag1 = 0\n",
    "    for i in args:\n",
    "        for j in i:\n",
    "            if j == '#':\n",
    "                sum1  = sum1 + 5\n",
    "            elif j == 'O':\n",
    "                sum1 = sum1 + 3\n",
    "            elif j == 'X':\n",
    "                sum1 = sum1 + 1\n",
    "            elif j == '!':\n",
    "                sum1 = sum1 - 1\n",
    "            elif j == '!!':\n",
    "                sum1 = sum1 - 3\n",
    "            elif j == '!!!':\n",
    "                sum1 = sum1 - 5\n",
    "            else:\n",
    "                flag1 = 1\n",
    "                \n",
    "    if flag1 > 0:\n",
    "        print(\"List is not having symbols from  #,O,X,!,!!,!!!\")\n",
    "    elif sum1 >= 0:\n",
    "        return sum1\n",
    "    elif sum1 < 0:\n",
    "        return 0\n",
    "    \n",
    "    \n",
    "    \n",
    "    \n",
    "            "
   ]
  },
  {
   "cell_type": "code",
   "execution_count": 2,
   "metadata": {},
   "outputs": [
    {
     "data": {
      "text/plain": [
       "0"
      ]
     },
     "execution_count": 2,
     "metadata": {},
     "output_type": "execute_result"
    }
   ],
   "source": [
    "listfun(\n",
    "  [\"!!!\", \"O\", \"!\"],\n",
    "  [\"X\", \"#\", \"!!!\"],\n",
    "  [\"!!\", \"X\", \"O\"]\n",
    "    )\n"
   ]
  },
  {
   "cell_type": "code",
   "execution_count": 9,
   "metadata": {},
   "outputs": [],
   "source": [
    "#2. Create a function that takes a variable number of arguments, each argument\n",
    "#representing the number of items in a group, and returns the number of permutations (combinations)\n",
    "#of items that you could get by taking one item from each group.\n",
    "\n",
    "#Not sure about this could you please help with this code.\n",
    "        "
   ]
  },
  {
   "cell_type": "code",
   "execution_count": 74,
   "metadata": {},
   "outputs": [],
   "source": [
    "#3. Create a function that takes a string as an argument and returns the Morse code equivalent.\n",
    "\n",
    "def funmorce(str1):\n",
    "    char_to_dots = {\n",
    "      'A': '.-', 'B': '-...', 'C': '-.-.', 'D': '-..', 'E': '.', 'F': '..-.',\n",
    "      'G': '--.', 'H': '....', 'I': '..', 'J': '.---', 'K': '-.-', 'L': '.-..',\n",
    "      'M': '--', 'N': '-.', 'O': '---', 'P': '.--.', 'Q': '--.-', 'R': '.-.',\n",
    "      'S': '...', 'T': '-', 'U': '..-', 'V': '...-', 'W': '.--', 'X': '-..-',\n",
    "      'Y': '-.--', 'Z': '--..', ' ': ' ', '0': '-----',\n",
    "      '1': '.----', '2': '..---', '3': '...--', '4': '....-', '5': '.....',\n",
    "      '6': '-....', '7': '--...', '8': '---..', '9': '----.',\n",
    "      '&': '.-...', \"'\": '.----.', '@': '.--.-.', ')': '-.--.-', '(': '-.--.',\n",
    "      ':': '---...', ',': '--..--', '=': '-...-', '!': '-.-.--', '.': '.-.-.-',\n",
    "      '-': '-....-', '+': '.-.-.', '\"': '.-..-.', '?': '..--..', '/': '-..-.'\n",
    "    }\n",
    "    list1 = []\n",
    "    list2 = [' ']\n",
    "    len1 = len(str1) \n",
    "    for i in range(0,len1):\n",
    "        list1 = list1 + list2 + list(char_to_dots.get(str(str1[i])))\n",
    "    print(\"Morse code equalent to {} is {}\".format(str1,(''.join(list1))))\n",
    "    \n",
    "    \n"
   ]
  },
  {
   "cell_type": "code",
   "execution_count": 75,
   "metadata": {},
   "outputs": [
    {
     "name": "stdout",
     "output_type": "stream",
     "text": [
      "Morse code equalent to EDABBIT CHALLENGE is  . -.. .- -... -... .. -   -.-. .... .- .-.. .-.. . -. --. .\n"
     ]
    }
   ],
   "source": [
    "funmorce(\"EDABBIT CHALLENGE\")"
   ]
  },
  {
   "cell_type": "code",
   "execution_count": 20,
   "metadata": {},
   "outputs": [
    {
     "name": "stdout",
     "output_type": "stream",
     "text": [
      "please enter a number10\n"
     ]
    }
   ],
   "source": [
    "4#Write a function that takes a number and returns True if it's a prime; False otherwise. \n",
    "#The number can be 2^64-1 (2 to the power of 63, not XOR). With the standard \n",
    "#technique it would be O(2^64-1), which is much too large for the 10 second time limit.\n",
    "\n",
    "\n",
    "import math\n",
    "import time\n",
    "def is_prime(n):\n",
    "    if n<= 1:\n",
    "        return False\n",
    "    else:\n",
    "        sqrt1 = int(math.sqrt(n))\n",
    "        for i in range(2,sqrt1 + 1):\n",
    "            if n % i == 0:\n",
    "                return False\n",
    "        return True\n"
   ]
  },
  {
   "cell_type": "code",
   "execution_count": 21,
   "metadata": {},
   "outputs": [
    {
     "data": {
      "text/plain": [
       "False"
      ]
     },
     "execution_count": 21,
     "metadata": {},
     "output_type": "execute_result"
    }
   ],
   "source": [
    "is_prime(5151512515524)"
   ]
  },
  {
   "cell_type": "code",
   "execution_count": 52,
   "metadata": {},
   "outputs": [],
   "source": [
    "#5.  Create a function that converts a word to a bitstring and then to a boolean list based on the following criteria:\n",
    "\n",
    "#    1. Locate the position of the letter in the English alphabet (from 1 to 26).\n",
    "#    2. Odd positions will be represented as 1 and 0 otherwise.\n",
    "#    3. Convert the represented positions to boolean values, 1 for True and 0 for False.\n",
    "#    4. Store the conversions into an array.\n",
    "\n",
    "def con_fun(a):\n",
    "    alf = \"abcdefghijklmnopqrstuvwxyz\"\n",
    "    list1 = []\n",
    "    list2 = []\n",
    "    for i in range(0,len(a)):\n",
    "        b = 1\n",
    "        for j in range(0,26):\n",
    "            if a[i].lower() == alf[j]:\n",
    "                break\n",
    "            else:\n",
    "                b= b+ 1\n",
    "\n",
    "        if b%2 == 0:\n",
    "            list1.append(False)\n",
    "            list2.append(1)\n",
    "        else:\n",
    "            list1.append(True)\n",
    "            list2.append(0)     \n",
    "    print(\"Boolean list of the {} is {} \".format(a,list1))\n",
    "    print(\"Boolean list of the {} is {} \".format(a,list2))\n",
    "            \n"
   ]
  },
  {
   "cell_type": "code",
   "execution_count": 53,
   "metadata": {},
   "outputs": [
    {
     "name": "stdout",
     "output_type": "stream",
     "text": [
      "Boolean list of the DEEP is [False, True, True, False] \n",
      "Boolean list of the DEEP is [1, 0, 0, 1] \n"
     ]
    }
   ],
   "source": [
    "con_fun(\"DEEP\")"
   ]
  },
  {
   "cell_type": "code",
   "execution_count": null,
   "metadata": {},
   "outputs": [],
   "source": []
  },
  {
   "cell_type": "code",
   "execution_count": null,
   "metadata": {},
   "outputs": [],
   "source": []
  }
 ],
 "metadata": {
  "kernelspec": {
   "display_name": "Python 3",
   "language": "python",
   "name": "python3"
  },
  "language_info": {
   "codemirror_mode": {
    "name": "ipython",
    "version": 3
   },
   "file_extension": ".py",
   "mimetype": "text/x-python",
   "name": "python",
   "nbconvert_exporter": "python",
   "pygments_lexer": "ipython3",
   "version": "3.8.3"
  }
 },
 "nbformat": 4,
 "nbformat_minor": 4
}
