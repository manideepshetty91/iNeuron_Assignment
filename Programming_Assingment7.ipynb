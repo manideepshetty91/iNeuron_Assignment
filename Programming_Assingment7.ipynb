{
 "cells": [
  {
   "cell_type": "code",
   "execution_count": 1,
   "metadata": {},
   "outputs": [
    {
     "name": "stdout",
     "output_type": "stream",
     "text": [
      "sum of the arry is 28 \n",
      "sum of the arry is 28 \n"
     ]
    }
   ],
   "source": [
    "#1.\tWrite a Python Program to find sum of array?\n",
    "#solution1\n",
    "list1 = [1,2,3,4,5,6,7]\n",
    "print(\"sum of the arry is {} \".format(sum(list1)))\n",
    "\n",
    "#solution2\n",
    "list2 = [1,2,3,4,5,6,7]\n",
    "sum1 = 0\n",
    "for i in list2:\n",
    "    sum1 = sum1 + i \n",
    "print(\"sum of the arry is {} \".format(sum1))"
   ]
  },
  {
   "cell_type": "code",
   "execution_count": 17,
   "metadata": {},
   "outputs": [
    {
     "name": "stdout",
     "output_type": "stream",
     "text": [
      "largest of the arry is 15 \n",
      "largest of the arry is 15 \n"
     ]
    }
   ],
   "source": [
    "#2.\tWrite a Python Program to find largest element in an array?\n",
    "list2 = [0,1,1,2,3,15,0,5,6,7]\n",
    "#solution1\n",
    "print(\"largest of the arry is {} \".format(max(list2)))\n",
    "\n",
    "\n",
    "#solution2\n",
    "sum1 = 0\n",
    "for i in list2:\n",
    "    if i> sum1:\n",
    "        sum1 = i\n",
    "\n",
    "print(\"largest of the arry is {} \".format(sum1))"
   ]
  },
  {
   "cell_type": "code",
   "execution_count": 15,
   "metadata": {},
   "outputs": [
    {
     "data": {
      "text/plain": [
       "15"
      ]
     },
     "execution_count": 15,
     "metadata": {},
     "output_type": "execute_result"
    }
   ],
   "source": [
    "max(list2)"
   ]
  },
  {
   "cell_type": "code",
   "execution_count": 13,
   "metadata": {},
   "outputs": [
    {
     "name": "stdout",
     "output_type": "stream",
     "text": [
      "Arry Rotation of List1 is [7, 6, 5, 0, 15, 3, 2, 1, 1, 41, 3, 2, 0] \n"
     ]
    }
   ],
   "source": [
    "#3.\tWrite a Python Program for array rotation?\n",
    "list1 = [0,2,3,41,1,1,2,3,15,0,5,6,7]\n",
    "print(\"Arry Rotation of List1 is {} \".format(list1[-1::-1]))\n",
    "\n"
   ]
  },
  {
   "cell_type": "code",
   "execution_count": 11,
   "metadata": {},
   "outputs": [
    {
     "data": {
      "text/plain": [
       "[7, 6, 5, 0, 15, 3, 2, 1, 1, 0]"
      ]
     },
     "execution_count": 11,
     "metadata": {},
     "output_type": "execute_result"
    }
   ],
   "source": [
    "list2"
   ]
  },
  {
   "cell_type": "code",
   "execution_count": 53,
   "metadata": {},
   "outputs": [
    {
     "name": "stdout",
     "output_type": "stream",
     "text": [
      "enter where to split the array 2\n",
      "Output array after splitting input arry at 2 is [5, 6, 52, 36, 12, 10] \n"
     ]
    }
   ],
   "source": [
    "#4.\tWrite a Python Program to Split the array and add the first part to the end?\n",
    "list1 = [12, 10, 5, 6, 52, 36]\n",
    "a = int(input(\"enter where to split the array \"))\n",
    "\n",
    "list2 = list1[a::]\n",
    "\n",
    "for i in range(0,a):\n",
    "    list2.append(list1[i])\n",
    "    \n",
    "\n",
    "print(\"Output array after splitting input arry at {} is {} \".format(a,list2))"
   ]
  },
  {
   "cell_type": "code",
   "execution_count": null,
   "metadata": {},
   "outputs": [],
   "source": []
  },
  {
   "cell_type": "code",
   "execution_count": null,
   "metadata": {},
   "outputs": [],
   "source": []
  },
  {
   "cell_type": "code",
   "execution_count": 2,
   "metadata": {},
   "outputs": [
    {
     "name": "stdout",
     "output_type": "stream",
     "text": [
      "True\n"
     ]
    }
   ],
   "source": [
    "#5.\tWrite a Python Program to check if given array is Monotonic?\n",
    "def isMonotonic(A):\n",
    "  \n",
    "    return (all(A[i] <= A[i + 1] for i in range(len(A) - 1)) or\n",
    "            all(A[i] >= A[i + 1] for i in range(len(A) - 1)))\n",
    "A = [6, 5, 4, 4]\n",
    "  \n",
    "print(isMonotonic(A))\n",
    "  \n"
   ]
  },
  {
   "cell_type": "code",
   "execution_count": null,
   "metadata": {},
   "outputs": [],
   "source": []
  }
 ],
 "metadata": {
  "kernelspec": {
   "display_name": "Python 3",
   "language": "python",
   "name": "python3"
  },
  "language_info": {
   "codemirror_mode": {
    "name": "ipython",
    "version": 3
   },
   "file_extension": ".py",
   "mimetype": "text/x-python",
   "name": "python",
   "nbconvert_exporter": "python",
   "pygments_lexer": "ipython3",
   "version": "3.8.3"
  }
 },
 "nbformat": 4,
 "nbformat_minor": 4
}
